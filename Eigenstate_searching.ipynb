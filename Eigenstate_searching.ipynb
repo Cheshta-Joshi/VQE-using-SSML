{
  "nbformat": 4,
  "nbformat_minor": 0,
  "metadata": {
    "colab": {
      "provenance": []
    },
    "kernelspec": {
      "display_name": "Python 3",
      "name": "python3"
    },
    "language_info": {
      "name": "python"
    }
  },
  "cells": [
    {
      "cell_type": "code",
      "metadata": {
        "id": "1rpe6I9_mLgk"
      },
      "source": [
        "!pip install qiskit\n",
        "\n",
        "from IPython.display import clear_output\n",
        "clear_output(wait=False)"
      ],
      "execution_count": null,
      "outputs": []
    },
    {
      "cell_type": "code",
      "metadata": {
        "id": "AW98jhJimVnG"
      },
      "source": [
        "from qiskit import *\n",
        "import random\n",
        "import numpy as np\n",
        "from scipy.linalg import expm\n",
        "from qiskit.visualization import plot_histogram\n",
        "from qiskit.visualization import plot_state_qsphere\n",
        "from qiskit.visualization import plot_state_paulivec\n",
        "from datetime import datetime"
      ],
      "execution_count": null,
      "outputs": []
    },
    {
      "cell_type": "code",
      "metadata": {
        "colab": {
          "base_uri": "https://localhost:8080/"
        },
        "id": "LX7tKt27mYWy",
        "outputId": "262a626a-348e-4e67-af46-90f167e44141"
      },
      "source": [
        "start_time = datetime.now()\n",
        "\n",
        "H = [[0, 1],                                  #Operator whose eigenvalues and eigenvectors are to be found \n",
        "    [1,0]] \n",
        "H = np.matrix(H)  \n",
        "print(\"Hamiltonian matrix: \\n\", H)\n",
        "print(\"--------------------------------------------------------\")\n",
        "\n",
        "t = 1                                    \n",
        "U = expm(-1j * H * t)\n",
        "\n",
        "param_theta = random.random() * np.pi        #Angle for Unitary gate A(Capital theta) Capital_theta=(param_theta, param_phi)\n",
        "param_phi = random.random() * 2 * np.pi\n",
        "\n",
        "alpha = 0.5                                  #Parameters for weight w\n",
        "beta = 0.6\n",
        "\n",
        "Ms = 0 \n",
        "Mh = 200\n",
        "\n",
        "sim = Aer.get_backend('qasm_simulator')\n",
        "svsim = Aer.get_backend('statevector_simulator')\n",
        "\n",
        "while Ms < Mh : \n",
        "  #Unitary gate A(capital_theta) acting on 2nd qubit, phi \n",
        "  qr = QuantumRegister(1)\n",
        "  cr = ClassicalRegister(1)\n",
        "  eig_vector = QuantumCircuit(qr,cr)             #Circuit for finding eigvector \n",
        "  eig_vector.u3(param_theta, param_phi, 0, qr[0])\n",
        "  eig_vector.squ(U,qr[0])\n",
        "  eig_vector.u3(-param_theta,0, -param_phi,qr[0])\n",
        "\n",
        "\n",
        "  eig_vector.measure(0,0)\n",
        "  res_vec = execute(eig_vector, backend = sim, shots =1).result()\n",
        "  res_vec_dict = res_vec.get_counts()\n",
        "  #print(res_vec_dict)\n",
        "  res_vec_collapsed = int(list(res_vec_dict.keys())[list(res_vec_dict.values()).index(1)])\n",
        "  #print(res_vec_collapsed)\n",
        "\n",
        "  if res_vec_collapsed == 0 : \n",
        "    #print(\"success\")\n",
        "    Ms = Ms + 1 \n",
        "\n",
        "  elif res_vec_collapsed == 1 : \n",
        "    #print(\"fail\")\n",
        "    w = alpha * (Ms + 1)**(-beta)\n",
        "    r1 = random.choice((-1, 1)) * random.random() * np.pi\n",
        "    r2 = random.choice((-1, 1)) * random.random() * 2* np.pi \n",
        "    Ms = 0 \n",
        "    param_theta = (param_theta + w * r1) % (np.pi)\n",
        "    param_phi = (param_phi + w * r2) % (2*np.pi)\n",
        "\n",
        "qr = QuantumRegister(1)\n",
        "final_eig_vector = QuantumCircuit(qr)\n",
        "#final_eig_vector.h(qr[0])\n",
        "final_eig_vector.u3(param_theta, param_phi, 0, qr[0])\n",
        "final_eig_vector.squ(U,qr[0])\n",
        "final_eig_vector.u3(-param_theta,0, -param_phi,qr[0])\n",
        "\n",
        "print(\"Final Circuit for finding Eigvector : A(capital_theta)| U | A_dagger(capital_theta) ==> |0> \\n\")\n",
        "print(final_eig_vector)\n",
        "print(\"-----------------------------------------------------------\")\n",
        "\n",
        "\n",
        "\n",
        "result_fiducial = execute(final_eig_vector, backend = svsim).result()\n",
        "counts_fiducial = result_fiducial.get_counts()\n",
        "#print(counts_fiducial)\n",
        "res_sv = result_fiducial.get_statevector(final_eig_vector)\n",
        "print(\"\\nFiducial State: Simulation \",res_sv)\n",
        "\n",
        "\n",
        "estimate = QuantumCircuit(1)\n",
        "estimate.u3(param_theta, param_phi, 0, 0)\n",
        "estimated_state = execute(estimate, backend = svsim).result().get_statevector(estimate)\n",
        "estimated_state = np.matrix(estimated_state)\n",
        "\n",
        "\n",
        "print(\"Estimated State:\",estimated_state)\n",
        "\n",
        "\n",
        "\"**********************Input the theoretically calculated eigenstate************************\"\n",
        "#eigstate = [-1/np.sqrt(2),1/np.sqrt(2)]\n",
        "#eigstate = np.matrix(eigstate)\n",
        "\"*******************************************************************************************\"\n",
        "\n",
        "#fidelity = (np.abs(eigstate.conjugate() * estimated_state.transpose()))**2\n",
        "#print(\"Fidelity :\" ,fidelity[0,0])\n",
        "#print(\"Error:\", 1 - fidelity[0,0])\n",
        "#print(\"1/200 =\", 1/200)\n",
        "\n",
        " \n",
        "#print(\"Eigenstate:\", eigstate)\n",
        "\n",
        "end_time = datetime.now()\n",
        "runtime = str(end_time - start_time)\n",
        "print(runtime)\n"
      ],
      "execution_count": null,
      "outputs": [
        {
          "output_type": "stream",
          "name": "stdout",
          "text": [
            "Hamiltonian matrix: \n",
            " [[0 1]\n",
            " [1 0]]\n",
            "--------------------------------------------------------\n"
          ]
        },
        {
          "output_type": "stream",
          "name": "stderr",
          "text": [
            "/usr/local/lib/python3.7/dist-packages/ipykernel_launcher.py:29: DeprecationWarning: The QuantumCircuit.u3 method is deprecated as of 0.16.0. It will be removed no earlier than 3 months after the release date. You should use QuantumCircuit.u instead, which acts identically. Alternatively, you can decompose u3 in terms of QuantumCircuit.p and QuantumCircuit.sx: u3(ϴ,φ,λ) = p(φ+π) sx p(ϴ+π) sx p(λ) (2 pulses on hardware).\n",
            "/usr/local/lib/python3.7/dist-packages/ipykernel_launcher.py:31: DeprecationWarning: The QuantumCircuit.u3 method is deprecated as of 0.16.0. It will be removed no earlier than 3 months after the release date. You should use QuantumCircuit.u instead, which acts identically. Alternatively, you can decompose u3 in terms of QuantumCircuit.p and QuantumCircuit.sx: u3(ϴ,φ,λ) = p(φ+π) sx p(ϴ+π) sx p(λ) (2 pulses on hardware).\n"
          ]
        },
        {
          "output_type": "stream",
          "name": "stdout",
          "text": [
            "Final Circuit for finding Eigvector : A(capital_theta)| U | A_dagger(capital_theta) ==> |0> \n",
            "\n",
            "         ┌─────────────────────┐┌─────┐┌───────────────────────┐\n",
            "q229202: ┤ U3(1.5215,6.2126,0) ├┤ Squ ├┤ U3(-1.5215,0,-6.2126) ├\n",
            "         └─────────────────────┘└─────┘└───────────────────────┘\n",
            "-----------------------------------------------------------\n",
            "\n",
            "Fiducial State: Simulation  Statevector([0.54030231-0.83835309j, 0.05936129-0.04139748j],\n",
            "            dims=(2,))\n",
            "Estimated State: [[0.72433398+0.j         0.68773158-0.04863697j]]\n",
            "The two eigstates are:\n",
            "[[ 0.72970854+0.j        -0.68079173-0.0636244j]]\n",
            "[[ 0.67203157+0.j         -0.74052145+0.00124639j]]\n",
            "0:00:40.651048\n"
          ]
        },
        {
          "output_type": "stream",
          "name": "stderr",
          "text": [
            "/usr/local/lib/python3.7/dist-packages/ipykernel_launcher.py:57: DeprecationWarning: The QuantumCircuit.u3 method is deprecated as of 0.16.0. It will be removed no earlier than 3 months after the release date. You should use QuantumCircuit.u instead, which acts identically. Alternatively, you can decompose u3 in terms of QuantumCircuit.p and QuantumCircuit.sx: u3(ϴ,φ,λ) = p(φ+π) sx p(ϴ+π) sx p(λ) (2 pulses on hardware).\n",
            "/usr/local/lib/python3.7/dist-packages/ipykernel_launcher.py:59: DeprecationWarning: The QuantumCircuit.u3 method is deprecated as of 0.16.0. It will be removed no earlier than 3 months after the release date. You should use QuantumCircuit.u instead, which acts identically. Alternatively, you can decompose u3 in terms of QuantumCircuit.p and QuantumCircuit.sx: u3(ϴ,φ,λ) = p(φ+π) sx p(ϴ+π) sx p(λ) (2 pulses on hardware).\n",
            "/usr/local/lib/python3.7/dist-packages/ipykernel_launcher.py:75: DeprecationWarning: The QuantumCircuit.u3 method is deprecated as of 0.16.0. It will be removed no earlier than 3 months after the release date. You should use QuantumCircuit.u instead, which acts identically. Alternatively, you can decompose u3 in terms of QuantumCircuit.p and QuantumCircuit.sx: u3(ϴ,φ,λ) = p(φ+π) sx p(ϴ+π) sx p(λ) (2 pulses on hardware).\n"
          ]
        }
      ]
    },
    {
      "cell_type": "code",
      "metadata": {
        "id": "kFMFPalEvY0m",
        "colab": {
          "base_uri": "https://localhost:8080/"
        },
        "outputId": "1821414f-9996-4ce6-c23e-a200c4781689"
      },
      "source": [
        "# This part is just to verify the working of exponential hamiltonian gate. \n",
        "\n",
        "\n",
        "qr_test = QuantumRegister(1)\n",
        "test = QuantumCircuit(qr_test)\n",
        "test.squ(U,qr_test[0])\n",
        "res_test = execute(test, backend = svsim).result().get_statevector(test)\n",
        "print(\"Vector after exponential hamiltonian applied : Simulation : \\n\",res_test)\n",
        "\n",
        "print(\"---------------------------------------------------------\")\n",
        "\n",
        "#Verification of exponential hamiltonian for H = X\n",
        "circ = QuantumCircuit(1)\n",
        "circ.rz(2,0)\n",
        "circ_sv = execute(circ, backend = svsim).result().get_statevector(circ)\n",
        "print(\"Vector after exponential hamiltonian is applied : Theoretical\\n\",circ_sv)\n",
        "\n",
        "if res_test.all() == circ_sv.all() :\n",
        "  print(\"\\n\\nVerified\")"
      ],
      "execution_count": null,
      "outputs": [
        {
          "output_type": "stream",
          "name": "stdout",
          "text": [
            "Vector after exponential hamiltonian applied : Simulation : \n",
            " Statevector([ 5.40302306e-01+0.j        , -3.22162947e-16-0.84147098j],\n",
            "            dims=(2,))\n",
            "---------------------------------------------------------\n",
            "Vector after exponential hamiltonian is applied : Theoretical\n",
            " Statevector([0.54030231-0.84147098j, 0.        +0.j        ],\n",
            "            dims=(2,))\n"
          ]
        },
        {
          "output_type": "stream",
          "name": "stderr",
          "text": [
            "/usr/local/lib/python3.7/dist-packages/ipykernel_launcher.py:18: DeprecationWarning: The return type of saved statevectors has been changed from a `numpy.ndarray` to a `qiskit.quantum_info.Statevector` as of qiskit-aer 0.10. Accessing numpy array attributes is deprecated and will result in an error in a future release. To continue using saved result objects as arrays you can explicitly cast them using  `np.asarray(object)`.\n"
          ]
        }
      ]
    },
    {
      "cell_type": "code",
      "source": [],
      "metadata": {
        "id": "ZwTywsi7cTNs"
      },
      "execution_count": null,
      "outputs": []
    }
  ]
}