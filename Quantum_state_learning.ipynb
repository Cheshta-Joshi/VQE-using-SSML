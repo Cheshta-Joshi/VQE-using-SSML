{
  "cells": [
    {
      "cell_type": "markdown",
      "metadata": {
        "id": "18dsNUOA1r6P"
      },
      "source": [
        "##  Finding unknown pure quantum state using Single Shot Measurement Learning technique"
      ]
    },
    {
      "cell_type": "markdown",
      "metadata": {
        "id": "drxYcF3-c4nE"
      },
      "source": [
        "##### **1) Install Qiskit**"
      ]
    },
    {
      "cell_type": "code",
      "execution_count": null,
      "metadata": {
        "id": "ZTf2UKfD04o3"
      },
      "outputs": [],
      "source": [
        "!pip install qiskit\n",
        "\n",
        "from IPython.display import clear_output\n",
        "clear_output(wait=False)"
      ]
    },
    {
      "cell_type": "markdown",
      "metadata": {
        "id": "P5Ib7OZzdHk0"
      },
      "source": [
        "##### **2) Import required packages** "
      ]
    },
    {
      "cell_type": "code",
      "execution_count": null,
      "metadata": {
        "id": "pq6vX4t-1hl_"
      },
      "outputs": [],
      "source": [
        "from qiskit import *\n",
        "import random\n",
        "import numpy as np\n",
        "from qiskit.visualization import plot_histogram\n",
        "from qiskit.visualization import plot_state_qsphere"
      ]
    },
    {
      "cell_type": "markdown",
      "metadata": {
        "id": "Oo3etLqKoK__"
      },
      "source": [
        "##### **3) SSML Algorithm**"
      ]
    },
    {
      "cell_type": "markdown",
      "metadata": {
        "id": "iW-NjKXamBnj"
      },
      "source": [
        "![](https://drive.google.com/uc?export=view&id=1_r2on-xbPJ6RIN5CV55pA4es82Db6fyZ)"
      ]
    },
    {
      "cell_type": "code",
      "execution_count": null,
      "metadata": {
        "colab": {
          "base_uri": "https://localhost:8080/",
          "height": 683
        },
        "id": "SzVCiaf_5LEU",
        "outputId": "cbcc56d0-cc13-41e4-adbb-c4d918f8c849"
      },
      "outputs": [
        {
          "name": "stdout",
          "output_type": "stream",
          "text": [
            "Preparation of Arbitrary State:\n",
            "\n",
            "     ┌───────────────┐\n",
            "q_0: ┤ U(1.5966,0,0) ├\n",
            "     └───────────────┘\n",
            "c: 1/═════════════════\n",
            "                      \n"
          ]
        },
        {
          "name": "stderr",
          "output_type": "stream",
          "text": [
            "/usr/local/lib/python3.7/dist-packages/ipykernel_launcher.py:28: DeprecationWarning: The QuantumCircuit.__add__() method is being deprecated.Use the compose() method which is more flexible w.r.t circuit register compatibility.\n",
            "/usr/local/lib/python3.7/dist-packages/qiskit/circuit/quantumcircuit.py:869: DeprecationWarning: The QuantumCircuit.combine() method is being deprecated. Use the compose() method which is more flexible w.r.t circuit register compatibility.\n",
            "  return self.combine(rhs)\n"
          ]
        },
        {
          "name": "stdout",
          "output_type": "stream",
          "text": [
            "-----------------------------------------------------------\n",
            "Final Circuit: P + U(est_param) ==> Fiducial state \n",
            "\n",
            "     ┌───────────────┐┌───────────────┐\n",
            "q_0: ┤ U(1.5966,0,0) ├┤ U(10.917,0,0) ├\n",
            "     └───────────────┘└───────────────┘\n",
            "c: 1/══════════════════════════════════\n",
            "                                       \n",
            "\n",
            "Fiducial State: \n"
          ]
        },
        {
          "data": {
            "image/png": "[encoded data removed]",
            "text/plain": [
              "<Figure size 504x360 with 1 Axes>"
            ]
          },
          "execution_count": 3,
          "metadata": {
            "tags": []
          },
          "output_type": "execute_result"
        }
      ],
      "source": [
        "theta = random.random() * np.pi         #Angle for preparation device, P(theta)\n",
        "param = random.random() * np.pi         #Angle for Unitary gate U(p)\n",
        "\n",
        "#Parameters for weight w\n",
        "alpha = 0.5\n",
        "beta = 0.6\n",
        "\n",
        "prep = QuantumCircuit(1,1)              #Preparation Circuit\n",
        "\n",
        "# Preparation device \n",
        "prep.u(theta, 0, 0,0)                  #psi(theta) = cos(theta) |0> + sin(theta) |1>\n",
        "\n",
        "print(\"Preparation of Arbitrary State:\\n\")\n",
        "print(prep)\n",
        "\n",
        "Ms = 0                                  \n",
        "Mh = 200                                #Haulting Condition on Ms\n",
        "\n",
        "\n",
        "#Defining Quantum Simulators\n",
        "simulator = Aer.get_backend('qasm_simulator')\n",
        "svsim = Aer.get_backend('statevector_simulator')\n",
        "\n",
        "while Ms < Mh :\n",
        "  # Unitary gate, U(param) acting on state psi(theta)\n",
        "  unitary = QuantumCircuit(1,1)\n",
        "  unitary.u(param, 0, 0, 0)\n",
        "  circuit = prep + unitary\n",
        "  circuit.measure(0,0) \n",
        "  result = execute(circuit, backend = simulator, shots = 1).result()\n",
        "  result_dict = result.get_counts()\n",
        "  #print(result_dict)\n",
        "  measurement_output = int(list(result_dict.keys())[list(result_dict.values()).index(1)])\n",
        "  #print(measurement_output)\n",
        "\n",
        "  #success\n",
        "  if measurement_output == 0 :\n",
        "    Ms = Ms + 1 \n",
        "  \n",
        "  #failure\n",
        "  elif measurement_output == 1 : \n",
        "    w = alpha * (Ms + 1)**(-beta)\n",
        "    r = random.random() * np.pi \n",
        "    Ms = 0 \n",
        "    param = param + w * r\n",
        "\n",
        "#print(unitary)\n",
        "final_circuit = QuantumCircuit(1,1) \n",
        "final_circuit.u(theta,0,0,0)\n",
        "final_circuit.u(param,0,0,0)\n",
        "print(\"-----------------------------------------------------------\")\n",
        "print(\"Final Circuit: P + U(est_param) ==> Fiducial state \\n\")\n",
        "print(final_circuit)\n",
        "final_circuit.measure(0,0)\n",
        "result_final = execute(final_circuit, backend = simulator, shots = 1000).result()\n",
        "counts = result_final.get_counts(final_circuit)\n",
        "\n",
        "print(\"\\nFiducial State: \")\n",
        "plot_histogram(counts)\n"
      ]
    },
    {
      "cell_type": "markdown",
      "metadata": {
        "id": "Jw59BlxVsUQn"
      },
      "source": [
        "##### **4) Verification : What was the arbitrary state?**"
      ]
    },
    {
      "cell_type": "code",
      "execution_count": null,
      "metadata": {
        "colab": {
          "base_uri": "https://localhost:8080/"
        },
        "id": "AgwPOaZb5NmO",
        "outputId": "5bbd1d33-a6bd-4353-f536-078d2614cb68"
      },
      "outputs": [
        {
          "name": "stdout",
          "output_type": "stream",
          "text": [
            "Unknown state : [0.69793437+0.j 0.71616173+0.j]\n"
          ]
        }
      ],
      "source": [
        "#Finding statevector of unknown arbitrary state\n",
        "res = execute(prep, backend = svsim).result()\n",
        "unknown_state = res.get_statevector(prep)\n",
        "print(\"Unknown state :\", unknown_state)\n",
        "\n",
        "#Finding probability distribution for comparison\n",
        "prep.measure(0,0)\n",
        "res1 = execute(prep, backend = simulator, shots = 2000).result()\n",
        "counts = res1.get_counts(prep)\n"
      ]
    },
    {
      "cell_type": "markdown",
      "metadata": {
        "id": "q6egIfJut72r"
      },
      "source": [
        "##### **5) Estimating the arbitrary state and Comparing**"
      ]
    },
    {
      "cell_type": "code",
      "execution_count": null,
      "metadata": {
        "colab": {
          "base_uri": "https://localhost:8080/",
          "height": 357
        },
        "id": "DpphKkX934BE",
        "outputId": "fa9a9b14-a392-4f54-9ede-ea48446b7ed7"
      },
      "outputs": [
        {
          "name": "stdout",
          "output_type": "stream",
          "text": [
            "Estimated state:\n",
            "[-0.67867375+0.j -0.73443988+0.j]\n"
          ]
        },
        {
          "data": {
            "image/png": "[encoded data removed]",
            "text/plain": [
              "<Figure size 504x360 with 1 Axes>"
            ]
          },
          "execution_count": 5,
          "metadata": {
            "tags": []
          },
          "output_type": "execute_result"
        }
      ],
      "source": [
        "#Estimating psi by applying U-dagger\n",
        "dagger_circuit = QuantumCircuit(1,1)\n",
        "dagger_circuit.u(-param,0,0,0)\n",
        "\n",
        "#Finding statevector of estimated psi\n",
        "est_res = execute(dagger_circuit, backend = svsim).result()\n",
        "est_state = est_res.get_statevector(dagger_circuit)\n",
        "print(\"Estimated state:\")\n",
        "print(-1 * est_state)\n",
        "\n",
        "#Finding probability distribution of estimated psi \n",
        "dagger_circuit.measure(0,0)\n",
        "res2 = execute(dagger_circuit, backend = simulator, shots = 2000).result()\n",
        "counts2 = res2.get_counts(dagger_circuit)\n",
        "\n",
        "#Plotting prob distributio of psi and estimated psi for comparison\n",
        "legend = ['Psi', 'Estimated Psi']\n",
        "plot_histogram([counts, counts2], legend=legend)"
      ]
    },
    {
      "cell_type": "code",
      "execution_count": null,
      "metadata": {
        "id": "i17w3LYiB3c3"
      },
      "outputs": [],
      "source": []
    }
  ],
  "metadata": {
    "colab": {
      "provenance": []
    },
    "kernelspec": {
      "display_name": "Python 3",
      "language": "python",
      "name": "python3"
    },
    "language_info": {
      "codemirror_mode": {
        "name": "ipython",
        "version": 3
      },
      "file_extension": ".py",
      "mimetype": "text/x-python",
      "name": "python",
      "nbconvert_exporter": "python",
      "pygments_lexer": "ipython3",
      "version": "3.7.6"
    }
  },
  "nbformat": 4,
  "nbformat_minor": 0
}