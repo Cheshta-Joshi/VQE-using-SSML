{
  "nbformat": 4,
  "nbformat_minor": 0,
  "metadata": {
    "colab": {
      "provenance": []
    },
    "kernelspec": {
      "display_name": "Python 3",
      "name": "python3"
    },
    "language_info": {
      "name": "python"
    }
  },
  "cells": [
    {
      "cell_type": "code",
      "metadata": {
        "id": "odSSBFc3ZDp5"
      },
      "source": [
        "!pip install qiskit\n",
        "!pip install pylatexenc\n",
        "\n",
        "from IPython.display import clear_output\n",
        "clear_output(wait=False)"
      ],
      "execution_count": null,
      "outputs": []
    },
    {
      "cell_type": "code",
      "metadata": {
        "id": "Ffdq0tEhZJhO"
      },
      "source": [
        "from qiskit import *\n",
        "import random\n",
        "import numpy as np\n",
        "from scipy.linalg import expm\n",
        "from qiskit.visualization import plot_histogram\n",
        "from qiskit.visualization import plot_state_qsphere\n",
        "from qiskit.extensions import UnitaryGate\n",
        "from qiskit.extensions import Initialize\n",
        "from qiskit.visualization import array_to_latex"
      ],
      "execution_count": null,
      "outputs": []
    },
    {
      "cell_type": "code",
      "metadata": {
        "id": "NxbuMWG7iRm5"
      },
      "source": [
        "simulator = Aer.get_backend('qasm_simulator')\n",
        "svsim = Aer.get_backend('statevector_simulator')"
      ],
      "execution_count": null,
      "outputs": []
    },
    {
      "cell_type": "code",
      "metadata": {
        "colab": {
          "base_uri": "https://localhost:8080/"
        },
        "id": "hHdgHAMJZLhX",
        "outputId": "f673080e-2a4b-4228-9c0e-b1e65b58fe31"
      },
      "source": [
        "from qiskit.visualization import array_to_latex\n",
        "H = [[0, 1],                                  #Operator whose eigenvalues and eigenvectors are to be found \n",
        "     [1,0]] \n",
        "H = np.matrix(H)  \n",
        "print(\"Hamiltonian matrix: \\n\", H)\n",
        "print(\"--------------------------------------------------------\")\n",
        "\n",
        "t = np.pi                                  \n",
        "U = expm(-1j * H * t)\n",
        "print(\"U matrix:\\n\", U)\n",
        "\n",
        "En = [1/np.sqrt(2),1/np.sqrt(2)]\n",
        "\n",
        "base_circuit = QuantumCircuit(2)\n",
        "\n",
        "eigstate = Initialize(En)\n",
        "eigstate.label = \"En\"\n",
        "base_circuit.append(eigstate,[1])\n",
        "base_circuit.h(0)\n",
        "\n",
        "Ugate = UnitaryGate(U, label = \"U = exp(-iHt)\")\n",
        "CUgate = Ugate.control(1)\n",
        "\n",
        "base_circuit.append(CUgate, [0,1])\n",
        "\n",
        "# SSML = Initialize(En)\n",
        "# SSML.label = \"SSML\"\n",
        "# base_circuit.append(SSML,[0])\n",
        "\n",
        "print(\"Base Circuit:\")\n",
        "print(base_circuit)\n",
        "\n",
        "result_base = execute(base_circuit, backend = svsim).result()\n",
        "counts_base = result_base.get_counts()\n",
        "state_base = result_base.get_statevector(base_circuit)\n",
        "#print(\"State vector of Base Circuit \\n\", state_base)\n",
        "\n",
        "\n",
        "\n",
        "print(\"Base Circuit Counts\", counts_base)\n",
        "plot_histogram(counts_base)\n",
        "#array_to_latex(state_base, prefix=\"\\\\text{Statevector After Base Circuit} = \")"
      ],
      "execution_count": null,
      "outputs": [
        {
          "output_type": "stream",
          "name": "stdout",
          "text": [
            "Hamiltonian matrix: \n",
            " [[0 1]\n",
            " [1 0]]\n",
            "--------------------------------------------------------\n",
            "U matrix:\n",
            " [[-1.-0.00000000e+00j  0.-2.35127499e-16j]\n",
            " [ 0.-2.35127499e-16j -1.-0.00000000e+00j]]\n",
            "Base Circuit:\n",
            "              ┌───┐                          \n",
            "q_0: ─────────┤ H ├─────────────────■────────\n",
            "     ┌────────┴───┴────────┐┌───────┴───────┐\n",
            "q_1: ┤ En(0.70711,0.70711) ├┤ U = exp(-iHt) ├\n",
            "     └─────────────────────┘└───────────────┘\n",
            "Base Circuit Counts {'00': 0.25, '01': 0.25, '10': 0.25, '11': 0.25}\n"
          ]
        },
        {
          "output_type": "execute_result",
          "data": {
            "text/plain": [
              "<Figure size 504x360 with 1 Axes>"
            ],
            "image/png": "[encoded data removed]"
          },
          "metadata": {},
          "execution_count": 4
        }
      ]
    },
    {
      "cell_type": "code",
      "metadata": {
        "colab": {
          "base_uri": "https://localhost:8080/",
          "height": 336
        },
        "id": "u6q6I7x6iFlU",
        "outputId": "c847a0d4-d9a0-40e7-aa07-f9e9613582e8"
      },
      "source": [
        "#SSML on qubit 0\n",
        "\n",
        "param_theta = random.random() * np.pi    #Angle for Unitary gate U(phi)\n",
        "param_phi = random.random() * 2* np.pi\n",
        "\n",
        "#Parameters for weight w\n",
        "alpha = 0.5\n",
        "beta = 0.6\n",
        "\n",
        "Ms = 0 \n",
        "Mh = 200\n",
        "\n",
        "while Ms < Mh :\n",
        "  circuit = QuantumCircuit(2,2)\n",
        "  circuit = circuit + base_circuit\n",
        "  # print(\"Start circuit\")\n",
        "  # print(circuit)\n",
        "  circuit.u(-param_theta,0, -param_phi,0)\n",
        "  circuit.measure(0,0)\n",
        "  result = execute(circuit, backend = simulator, shots = 1).result()\n",
        "  result_dict = result.get_counts()\n",
        "  measurement_output = int(list(result_dict.keys())[list(result_dict.values()).index(1)])\n",
        "  # print(measurement_output)\n",
        "  # print(type(measurement_output))\n",
        "\n",
        "  #success\n",
        "  if measurement_output == 0 :\n",
        "    Ms = Ms + 1 \n",
        "    # print(\"success\")\n",
        "  \n",
        "  #failure\n",
        "  elif measurement_output == 1 : \n",
        "    # print(\"fail\")\n",
        "    w = alpha * (Ms + 1)**(-beta)\n",
        "    r1 = random.choice((-1, 1)) * random.random() * np.pi\n",
        "    r2 = random.choice((-1, 1)) * random.random() * 2* np.pi \n",
        "    Ms = 0 \n",
        "    param_theta = (param_theta + w * r1) % (np.pi)\n",
        "    param_phi = (param_phi + w * r2) % (2*np.pi)\n",
        "\n",
        "  # print(\"end circuit\")\n",
        "  # print(base_circuit)\n",
        "\n",
        "print(\"Final Parameters: \")\n",
        "print(\"Theta:\",param_theta)\n",
        "print(\"Phi\",param_phi)\n",
        "\n",
        "final_circuit = base_circuit\n",
        "final_circuit.u(-param_theta,0, -param_phi,0)\n",
        "print(\"Final Circuit : Should give fiducial state on qubit 0\")\n",
        "print(final_circuit)\n",
        "\n",
        "res_fiducial = execute(final_circuit, backend=svsim).result()\n",
        "fiducial_state = res_fiducial.get_statevector(final_circuit)\n",
        "fiducial_counts = res_fiducial.get_counts()\n",
        "print(\"Observed State (should be fiducial theoretically):\\n\", fiducial_state)\n",
        "print(\"counts\", fiducial_counts)\n",
        "plot_histogram(fiducial_counts)\n",
        "array_to_latex(fiducial_state, prefix=\"\\\\text{State observed} = \")"
      ],
      "execution_count": null,
      "outputs": [
        {
          "output_type": "stream",
          "name": "stderr",
          "text": [
            "/usr/local/lib/python3.7/dist-packages/ipykernel_launcher.py:15: DeprecationWarning: The QuantumCircuit.__add__() method is being deprecated.Use the compose() method which is more flexible w.r.t circuit register compatibility.\n",
            "  from ipykernel import kernelapp as app\n"
          ]
        },
        {
          "output_type": "stream",
          "name": "stdout",
          "text": [
            "Final Parameters: \n",
            "Theta: 1.4070815435336583\n",
            "Phi 3.1432153213214225\n",
            "Final Circuit : Should give fiducial state on qubit 0\n",
            "              ┌───┐                          ┌──────────────────────┐\n",
            "q_0: ─────────┤ H ├─────────────────■────────┤ U(-1.4071,0,-3.1432) ├\n",
            "     ┌────────┴───┴────────┐┌───────┴───────┐└──────────────────────┘\n",
            "q_1: ┤ En(0.70711,0.70711) ├┤ U = exp(-iHt) ├────────────────────────\n",
            "     └─────────────────────┘└───────────────┘                        \n",
            "Observed State (should be fiducial theoretically):\n",
            " Statevector([0.70473865-0.00052487j, 0.0578168 -0.00061869j,\n",
            "             0.70473865-0.00052487j, 0.0578168 -0.00061869j],\n",
            "            dims=(2, 2))\n",
            "counts {'00': 0.496656835384543, '01': 0.003343164615456, '10': 0.496656835384543, '11': 0.003343164615456}\n"
          ]
        },
        {
          "output_type": "execute_result",
          "data": {
            "text/plain": [
              "<IPython.core.display.Latex object>"
            ],
            "text/latex": "$$\n\\text{State observed} = \n\\begin{bmatrix}\n0.70474 - 0.00052i & 0.05782 - 0.00062i & 0.70474 - 0.00052i & 0.05782 - 0.00062i  \\\\\n \\end{bmatrix}\n$$"
          },
          "metadata": {},
          "execution_count": 5
        }
      ]
    },
    {
      "cell_type": "code",
      "metadata": {
        "id": "QumyrR7vZ0DW",
        "colab": {
          "base_uri": "https://localhost:8080/"
        },
        "outputId": "a931148b-cce6-4a50-c66b-a1fe587d595d"
      },
      "source": [
        "estimation_circuit = QuantumCircuit(1)\n",
        "estimation_circuit.u(param_theta, param_phi,0,0)\n",
        "\n",
        "res_est = execute(estimation_circuit, backend=svsim).result()\n",
        "res_state = res_est.get_statevector(estimation_circuit)\n",
        "res_counts = res_est.get_counts()\n",
        "print(\"Estimated State: \\n\", res_state)\n",
        "print(res_counts)\n",
        "plot_histogram(res_counts)\n"
      ],
      "execution_count": null,
      "outputs": [
        {
          "output_type": "stream",
          "name": "stdout",
          "text": [
            "Estimated State: \n",
            " Statevector([ 0.76255637+0.j        , -0.64692092-0.00104974j],\n",
            "            dims=(2,))\n",
            "{'0': 0.581492217151635, '1': 0.418507782848365}\n"
          ]
        },
        {
          "output_type": "execute_result",
          "data": {
            "text/plain": [
              "<Figure size 504x360 with 1 Axes>"
            ],
            "image/png": "[encoded data removed]"
          },
          "metadata": {},
          "execution_count": 6
        }
      ]
    },
    {
      "cell_type": "code",
      "metadata": {
        "id": "Brz0MPP0U8bh",
        "colab": {
          "base_uri": "https://localhost:8080/"
        },
        "outputId": "5a3b2de7-398a-4404-a6d0-c98c26590c10"
      },
      "source": [
        "print(param_phi)\n",
        "En = param_phi/t\n",
        "print(\"Eigenvalue=\",En)"
      ],
      "execution_count": null,
      "outputs": [
        {
          "output_type": "stream",
          "name": "stdout",
          "text": [
            "3.1432153213214225\n",
            "Eigenvalue= 1.000516511180969\n"
          ]
        }
      ]
    }
  ]
}